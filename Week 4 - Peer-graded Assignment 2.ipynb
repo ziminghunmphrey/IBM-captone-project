{
 "cells": [
  {
   "cell_type": "markdown",
   "metadata": {},
   "source": [
    "### Data"
   ]
  },
  {
   "cell_type": "markdown",
   "metadata": {},
   "source": [
    "**Describe the data that you will be using to solve the problem or execute your idea. Remember that you will need to use the Foursquare location data to solve the problem or execute your idea. You can absolutely use other datasets in combination with the Foursquare location data. So make sure that you provide adequate explanation and discussion, with examples, of the data that you will be using, even if it is only Foursquare location data.**"
   ]
  },
  {
   "cell_type": "markdown",
   "metadata": {},
   "source": [
    "* The Toronto neighborhood data set is going to be used for segmenting and clustering the neighborhoods in the city of Toronto. This will help to detect the similarities and dissimilarities of neighborhoods. The Toronto neighborhood data will be scraped from a Wikipedia page (https://en.wikipedia.org/wiki/List_of_postal_codes_of_Canada:_M). This page has all the information I need to explore and cluster the neighborhoods in Toronto. The data contains the coordinates for each of the neighborhood in Toronto. Clustering techniques such as K-means will be used to segment and cluster these neighborhoods so that they can be grouped together. After the grouping, their similarities and what we can do with those type of neighborhoods can be understood."
   ]
  },
  {
   "cell_type": "markdown",
   "metadata": {},
   "source": [
    "* Foursquare is a local search-and-discovery service mobile app which provides search results for its users. The app provides personalized recommendations of places to go to near a user's current location based on users' \"previous browsing history, purchases, or check-in history\". Foursquare API will be used to explore the various types of venues and their categories available in each neighborhood. The trending venues in a neighborhood can be displayed with the API. The gym frequency in a neighborhood or existence of a trending gym are another data that can be useful in the project."
   ]
  },
  {
   "cell_type": "markdown",
   "metadata": {},
   "source": [
    "* We will then be able to come up with the best location for the gym with all these features, techniques and data. The location is the optimum neighborhood to start offering services. For example, a neighborhood with a lot of available gyms or a trending high-end gym, will be classified as a high risk. The model intended to recommend a neighborhood where will be a higher demand of gym service due to the absence of gyms in that area."
   ]
  }
 ],
 "metadata": {
  "kernelspec": {
   "display_name": "Python 3",
   "language": "python",
   "name": "python3"
  },
  "language_info": {
   "codemirror_mode": {
    "name": "ipython",
    "version": 3
   },
   "file_extension": ".py",
   "mimetype": "text/x-python",
   "name": "python",
   "nbconvert_exporter": "python",
   "pygments_lexer": "ipython3",
   "version": "3.6.5"
  }
 },
 "nbformat": 4,
 "nbformat_minor": 2
}
