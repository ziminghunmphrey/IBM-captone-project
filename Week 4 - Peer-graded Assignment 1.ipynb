{
 "cells": [
  {
   "cell_type": "markdown",
   "metadata": {},
   "source": [
    "### Introduction/Business Problem"
   ]
  },
  {
   "cell_type": "markdown",
   "metadata": {},
   "source": [
    "**Clearly define a problem or an idea of your choice, where you would need to leverage the Foursquare location data to solve or execute. Remember that data science problems always target an audience and are meant to help a group of stakeholders solve a problem, so make sure that you explicitly describe your audience and why they would care about your problem.**"
   ]
  },
  {
   "cell_type": "markdown",
   "metadata": {},
   "source": [
    "#### Introduction"
   ]
  },
  {
   "cell_type": "markdown",
   "metadata": {},
   "source": [
    "* Toronto is the largest city in Canada by population, with 2,731,571 residents in 2016. A global city, Toronto is a center of business, finance, arts, and culture, and is recognized as one of the most multicultural and cosmopolitan cities in the world. Toronto has teams in nearly every major professional sport, including the Toronto Blue Jays (MLB), Toronto Argonauts (CFL), Toronto Raptors (NBA), Toronto Rock (NLL), Toronto FC (MLS), Ontario Arrows (MLR) and the Toronto Maple Leafs (NHL). This shows there is a strong sports culture in Toronto. Its economy is highly diversified with strengths in technology, design, financial services, life sciences, education, arts, fashion, business services, environmental innovation, food services, and tourism. That means the market is highly competitive for people who want to start business there. A new business plan in Toronto needs to be designed carefully, so that the business will be successful and sustainable. The business plan's aim should be lowering the risk to minimum."
   ]
  },
  {
   "cell_type": "markdown",
   "metadata": {},
   "source": [
    "#### Business"
   ]
  },
  {
   "cell_type": "markdown",
   "metadata": {},
   "source": [
    "* I want to open a gym in Toronto and I have to resolve the problem stated above in order to be successful. Otherwise, the business will be a failure. The first location of the gym needs to be chosen carefully because of the points highlighted above. The first gym's success is more important than the later ones because it determines the fate of the business mostly. If it is successful, the same success can be achieved incrementally with second and third gyms. That's why the first gym and its location (i.e. neighborhood) is crucial for the business. In order to solve this problem, I am going to find the optimum location for a gym in the city of Toronto and it will minimize the failure risk related to the location."
   ]
  }
 ],
 "metadata": {
  "kernelspec": {
   "display_name": "Python 3",
   "language": "python",
   "name": "python3"
  },
  "language_info": {
   "codemirror_mode": {
    "name": "ipython",
    "version": 3
   },
   "file_extension": ".py",
   "mimetype": "text/x-python",
   "name": "python",
   "nbconvert_exporter": "python",
   "pygments_lexer": "ipython3",
   "version": "3.6.5"
  }
 },
 "nbformat": 4,
 "nbformat_minor": 2
}
